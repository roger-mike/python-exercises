{
 "cells": [
  {
   "attachments": {},
   "cell_type": "markdown",
   "metadata": {},
   "source": [
    "### Class\n",
    "1. Crea una clase llamada `Person` que incluya lo siguiente:\n",
    "\n",
    "atributos:\n",
    "- `name: public`\n",
    "- `age: public`\n",
    "\n",
    "metodos:\n",
    "- `speak: public`\n",
    "\n",
    "2. Haz que en el metodo `__init__` inicialice `name` y `age`. Si `age` no es especificado que sea igual a `0`\n",
    "3. Haz que en el metodo `speak` imprima `name` y `age`. Ejemplo: *Hola, me llamo `<name>` y tengo `<age>` años*\n",
    "4. Crea dos objetos de tipo `Person` y llama el metodo `speak`\n",
    "5. Crea un `property` y un`setter` para el nombre para que cada que se modifique tenga letra capital. Tambien debe tener letra capital al crearse por primera vez.\n",
    "6. Modifica el nombre en cualquier objeto y verifica que tenga letra capital"
   ]
  },
  {
   "cell_type": "code",
   "execution_count": null,
   "metadata": {},
   "outputs": [],
   "source": [
    "class Person():\n",
    "    def __init__(self, name, age=0):\n",
    "        self.name = name\n",
    "        self.age = age\n",
    "\n",
    "    def speak(self):\n",
    "        print(\"Hi, My name is {} and I'm {} years old\".format(self.name, self.age))\n",
    "\n",
    "    @property\n",
    "    def name(self):\n",
    "        return self._name\n",
    "\n",
    "    @name.setter\n",
    "    def name(self, new_name):\n",
    "        self._name = new_name.capitalize()\n",
    "\n",
    "\n",
    "\n",
    "mike = Person('mike', 26)\n",
    "minime = Person('minime')\n",
    "\n",
    "mike.speak()\n",
    "minime.speak()\n",
    "\n",
    "mike.name = 'juas' # Ya se capitaliza\n",
    "mike.speak()"
   ]
  },
  {
   "attachments": {},
   "cell_type": "markdown",
   "metadata": {},
   "source": [
    "7. Crea una clase llamada `Employee` que herede de `Person` y que ademas incluya lo siguiente:\n",
    "\n",
    "atributos:\n",
    "- `office_location: public`\n",
    "- `employee_id: private`\n",
    "\n",
    "metodos:\n",
    "- `speak: public` modificalo para que ademas diga: *...y trabajo en `<office_location>`*\n",
    "\n",
    "8. Crea un objeto `Employee` y llama el metodo `speak`"
   ]
  },
  {
   "cell_type": "code",
   "execution_count": 25,
   "metadata": {},
   "outputs": [
    {
     "name": "stdout",
     "output_type": "stream",
     "text": [
      "Hi, my name is Keny and I'm 18 years old and I work in SFO\n",
      "<class '__main__.Employee'>\n",
      "<class '__main__.Person'>\n",
      "<class '__main__.Person'>\n"
     ]
    }
   ],
   "source": [
    "class Employee(Person):\n",
    "    def __init__(self, name, age, office_location, employee_id):\n",
    "        Person.__init__(self, name, age)\n",
    "        self.office_location = office_location\n",
    "        self._employee_id = employee_id\n",
    "\n",
    "    def speak(self):\n",
    "        print(\"Hi, my name is {} and I'm {} years old and I work in {}\".format(self.name, self.age, self.office_location))\n",
    "\n",
    "\n",
    "keny = Employee('keny', 18, 'SFO', 123456)\n",
    "keny.speak()\n",
    "keny._employee_id\n",
    "\n",
    "print(type(keny))\n",
    "print(type(mike))\n",
    "print(type(minime))"
   ]
  }
 ],
 "metadata": {
  "kernelspec": {
   "display_name": "Python 3",
   "language": "python",
   "name": "python3"
  },
  "language_info": {
   "codemirror_mode": {
    "name": "ipython",
    "version": 3
   },
   "file_extension": ".py",
   "mimetype": "text/x-python",
   "name": "python",
   "nbconvert_exporter": "python",
   "pygments_lexer": "ipython3",
   "version": "3.9.4"
  },
  "orig_nbformat": 4,
  "vscode": {
   "interpreter": {
    "hash": "bf83be4fdf6d425e39f8861e6469281be86de43f8dab16841165e7ccc9625b45"
   }
  }
 },
 "nbformat": 4,
 "nbformat_minor": 2
}
