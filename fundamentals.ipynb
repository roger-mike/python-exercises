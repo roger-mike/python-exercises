{
 "cells": [
  {
   "attachments": {},
   "cell_type": "markdown",
   "metadata": {},
   "source": [
    "\n",
    "### Tipos de dato\n",
    "1. Crea 4 variables: una por cada tipo de dato\n",
    " - int\n",
    " - float\n",
    " - string\n",
    " - bool\n",
    "2. Imprime el tipo de cada variable usando la funcion `type`"
   ]
  },
  {
   "cell_type": "code",
   "execution_count": null,
   "metadata": {},
   "outputs": [],
   "source": []
  },
  {
   "attachments": {},
   "cell_type": "markdown",
   "metadata": {},
   "source": [
    "### Cadenas\n",
    "1. Crea un string con tu nombre completo\n",
    "2. Divide tu nombre completo en diferentes palabras y asignalo a un list usando la funcion `split`\n",
    "3. Toma tu primer nombre y tu primer appellido y haz un `reverse`\n",
    "4. Imprime tu nombre usando la funcion 'format' de la siguiente manera: *Hola mi nombre es `<nombre>` y me apellido `<apellido>`*"
   ]
  },
  {
   "cell_type": "code",
   "execution_count": null,
   "metadata": {},
   "outputs": [],
   "source": []
  },
  {
   "attachments": {},
   "cell_type": "markdown",
   "metadata": {},
   "source": [
    "### Operaciones matematicas\n",
    "1. Calcula la suma de 1 hasta N usando la formula de la sumatoria de Gauss e imprimela<br>\n",
    "[Formula de sumatoria de Gauss](https://betterexplained.com/articles/techniques-for-adding-the-numbers-1-to-100/)"
   ]
  },
  {
   "cell_type": "code",
   "execution_count": null,
   "metadata": {},
   "outputs": [],
   "source": []
  },
  {
   "attachments": {},
   "cell_type": "markdown",
   "metadata": {},
   "source": [
    "### Built-in functions\n",
    "1. Lee una palabra desde consola\n",
    "2. Imprime la longitud de esa palabra\n",
    "3. Imprime la palabra con sus letras ordenadas"
   ]
  },
  {
   "cell_type": "code",
   "execution_count": null,
   "metadata": {},
   "outputs": [],
   "source": []
  },
  {
   "attachments": {},
   "cell_type": "markdown",
   "metadata": {},
   "source": [
    "### Functions\n",
    "1. Define una funcion que reciba dos numeros y retorne su suma\n",
    "2. Define una funcion que reciba tu nombre y tu edad y que retorne el string: *Me llamo `<nombre>` y tengo `<edad>` años*<br>\n",
    "(usa keyword arguments para llamarla)\n",
    "3. Agrega un valor default a la funcion de nombre y edad para que la edad sea 0 cuando no se agregue ese argumento"
   ]
  },
  {
   "cell_type": "code",
   "execution_count": null,
   "metadata": {},
   "outputs": [],
   "source": []
  },
  {
   "attachments": {},
   "cell_type": "markdown",
   "metadata": {},
   "source": [
    "### List\n",
    "Usa la lista `numbers` para realizar los siguientes ejercicios\n",
    "1. Obten el numero mas grande\n",
    "2. Obten el numero mas chico\n",
    "3. Obten la primera mitad de la lista en una nueva variable\n",
    "4. Obten la segunda mitad de la lista en una nueva variable\n",
    "5. Obten la suma de la primera mitad\n",
    "6. Obten la suma de la segunda mitad\n",
    "7. Obten el segundo numero de la primera lista\n",
    "8. Obten el segundo numero desde atras de la segundo lista"
   ]
  },
  {
   "cell_type": "code",
   "execution_count": 1,
   "metadata": {},
   "outputs": [],
   "source": [
    "numbers = [15, 10, 1, 0, -1, 99, 12, 17, 2, 11, 37, -99]"
   ]
  },
  {
   "attachments": {},
   "cell_type": "markdown",
   "metadata": {},
   "source": [
    "### List comprehensions\n",
    "1. Usa una list comprehension para dividir entre 2 los numeros pares en `numbers`\n",
    "2. Crea una matriz de `0`'s de `10x10` usando list comprehension"
   ]
  },
  {
   "cell_type": "code",
   "execution_count": 2,
   "metadata": {},
   "outputs": [],
   "source": [
    "numbers = [5, 1, 4, 7, 100, 2, 16, 64, 9, 13, 11, 12]"
   ]
  },
  {
   "attachments": {},
   "cell_type": "markdown",
   "metadata": {},
   "source": [
    "### Tuples\n",
    "1. Crea una lista con todas las cartas de la baraja inglesa donde cada carta se representa como una tupla: `(numero, palo)`"
   ]
  },
  {
   "cell_type": "code",
   "execution_count": 3,
   "metadata": {},
   "outputs": [],
   "source": [
    "ranks = [2, 3, 4, 5, 6, 7, 8, 9, 10, 'J', 'Q', 'K', 'A']\n",
    "suits = ['H', 'C', 'D', 'S']"
   ]
  },
  {
   "attachments": {},
   "cell_type": "markdown",
   "metadata": {},
   "source": [
    "### Dictionaries\n",
    "1. Crea un diccionario donde cuentes las veces que aparece cada nombre en `dogs`\n",
    "2. Imprime la cantidad de perros que se llaman `Rocky` y `Sparky`\n",
    "3. Imprime la lista con los diferentes nombres de perros"
   ]
  },
  {
   "cell_type": "code",
   "execution_count": 4,
   "metadata": {},
   "outputs": [],
   "source": [
    "dogs=['Sparky', 'Hunter', 'Loki', 'Astro', 'Sparky', 'Rocky', 'Rocky', 'Toby', 'Chelsea',\n",
    "      'Maple', 'Maya', 'Loki', 'Sparky', 'Toby', 'Sparky', 'Dexter', 'Fido', 'Sparky']"
   ]
  },
  {
   "attachments": {},
   "cell_type": "markdown",
   "metadata": {},
   "source": [
    "### Conditional Statements\n",
    "1. Crea una funcion que calcule el precio de una entrada al museo basado en lo siguiente:\n",
    "- Si la edad es `igual o mayor` que `70` o `menor` de `10` el precio es `0`\n",
    "- Si la edad es `igual o mayor` que `10` y `menor` que `18` el precio es `10`\n",
    "- Si la edad es `igual o mayor` que `18` y `menor` que `70` el precio es `20`\n",
    "- Si es estudiante el precio es `0`"
   ]
  },
  {
   "cell_type": "code",
   "execution_count": null,
   "metadata": {},
   "outputs": [],
   "source": []
  },
  {
   "attachments": {},
   "cell_type": "markdown",
   "metadata": {},
   "source": [
    "### Loops\n",
    "1. La conjetura de Collatz se define de la siguiente manera:\n",
    "    - Si `n` es par, dividelo entre 2\n",
    "    - Si `n` es impar, multiplicalo por 3 y sumale 1\n",
    "    <br><br>Ejemplo: `n=6`\n",
    "    <br>`6->3->10->5->16->8->4->2->1`\n",
    "    <br>La cantidad de pasos para `n=6` es `8`\n",
    "\n",
    "    Crea una funcion que reciba `n` y devuelva la cantidad de pasos necesarios para que `n=1`\n",
    "\n",
    "2. Crea una funcion que reciba como parametros la matriz `letter_soup` y una letra cualquiera y que retorne la cantidad de veces que aparece la letra"
   ]
  },
  {
   "cell_type": "code",
   "execution_count": 5,
   "metadata": {},
   "outputs": [],
   "source": [
    "letter_soup = [\n",
    "  ['a', 'z', 'u', 'p', 'r', 'g', 'u', 'h', 'm', 'a'],\n",
    "  ['u', 'w', 'g', 'f', 'e', 'h', 'o', 'm', 'u', 't'],\n",
    "  ['t', 'c', 's', 'j', 'i', 'p', 'q', 'a', 'g', 'y'],\n",
    "  ['a', 'q', 'i', 'j', 'u', 'x', 'j', 'e', 'f', 'q'],\n",
    "  ['f', 'd', 'h', 'w', 'z', 'w', 'n', 'i', 'e', 'p'],\n",
    "  ['m', 't', 'p', 'e', 'm', 'i', 'g', 'y', 'y', 'h'],\n",
    "  ['x', 'y', 'b', 'o', 'o', 'n', 's', 'z', 'p', 'd'],\n",
    "  ['a', 'o', 'y', 'b', 'y', 'c', 's', 'q', 'i', 'a'],\n",
    "  ['a', 'k', 'x', 'l', 'q', 'z', 't', 'p', 'l', 'e'],\n",
    "  ['a', 'j', 'h', 'a', 'v', 'q', 'v', 'v', 'q', 'k'],\n",
    "]"
   ]
  },
  {
   "attachments": {},
   "cell_type": "markdown",
   "metadata": {},
   "source": [
    "### Exceptions & Troubleshoot\n",
    "1. Crea una funcion que reciba dos numeros `a` y `b` y retorne `a/b`\n",
    "2. Maneja la excepcion para el caso cuando `b=0` y devuelve un `float('inf')`\n",
    "3. Maneja la excepcion para el caso cuando `a` o `b` no son numeros y devuelve un `None`"
   ]
  },
  {
   "cell_type": "code",
   "execution_count": null,
   "metadata": {},
   "outputs": [],
   "source": []
  }
 ],
 "metadata": {
  "kernelspec": {
   "display_name": "Python 3",
   "language": "python",
   "name": "python3"
  },
  "language_info": {
   "codemirror_mode": {
    "name": "ipython",
    "version": 3
   },
   "file_extension": ".py",
   "mimetype": "text/x-python",
   "name": "python",
   "nbconvert_exporter": "python",
   "pygments_lexer": "ipython3",
   "version": "3.9.4"
  },
  "orig_nbformat": 4,
  "vscode": {
   "interpreter": {
    "hash": "bf83be4fdf6d425e39f8861e6469281be86de43f8dab16841165e7ccc9625b45"
   }
  }
 },
 "nbformat": 4,
 "nbformat_minor": 2
}
