{
 "cells": [
  {
   "attachments": {},
   "cell_type": "markdown",
   "metadata": {},
   "source": [
    "\n",
    "### Tipos de dato\n",
    "1. Crea 4 variables: una por cada tipo de dato\n",
    " - int\n",
    " - float\n",
    " - string\n",
    " - bool\n",
    "2. Imprime el tipo de cada variable usando la funcion `type`"
   ]
  },
  {
   "cell_type": "code",
   "execution_count": null,
   "metadata": {},
   "outputs": [],
   "source": [
    "a = 4\n",
    "b = 9.9\n",
    "c = 'hello'\n",
    "d = True\n",
    "\n",
    "print(type(a))\n",
    "print(type(b))\n",
    "print(type(c))\n",
    "print(type(d))"
   ]
  },
  {
   "attachments": {},
   "cell_type": "markdown",
   "metadata": {},
   "source": [
    "### Cadenas\n",
    "1. Crea un string con tu nombre completo\n",
    "2. Divide tu nombre completo en diferentes palabras y asignalo a un list usando la funcion `split`\n",
    "3. Toma tu primer nombre y tu primer appellido y haz un `reverse`\n",
    "4. Imprime tu nombre usando la funcion 'format' de la siguiente manera: *Hola mi nombre es `<nombre>` y me apellido `<apellido>`*"
   ]
  },
  {
   "cell_type": "code",
   "execution_count": null,
   "metadata": {},
   "outputs": [],
   "source": [
    "name = 'rogelio miguel hernandez sandoval'\n",
    "tokens = name.split()\n",
    "\n",
    "first = ''.join(list(reversed(tokens[0])))\n",
    "last = ''.join(list(reversed(tokens[2])))\n",
    "\n",
    "print('Hola mi nombre es {} y me apellido {}'.format(first, last))"
   ]
  },
  {
   "attachments": {},
   "cell_type": "markdown",
   "metadata": {},
   "source": [
    "### Operaciones matematicas\n",
    "1. Calcula la suma de 1 hasta N usando la formula de la sumatoria de Gauss e imprimela<br>\n",
    "[Formula de sumatoria de Gauss](https://betterexplained.com/articles/techniques-for-adding-the-numbers-1-to-100/)"
   ]
  },
  {
   "cell_type": "code",
   "execution_count": null,
   "metadata": {},
   "outputs": [],
   "source": [
    "n = 10\n",
    "gauss = n*(n+1)/2\n",
    "print(int(gauss))\n"
   ]
  },
  {
   "attachments": {},
   "cell_type": "markdown",
   "metadata": {},
   "source": [
    "### Built-in functions\n",
    "1. Lee una palabra desde consola\n",
    "2. Imprime la longitud de esa palabra\n",
    "3. Imprime la palabra con sus letras ordenadas\n",
    "4. Crea una lista del `0` al `49`\n",
    "5. Convierte el numero `94763` a hexadecimal\n",
    "6. Utiliza la funcion `zip` para crear una lista de tuplas de la siguiente manera: `[(0, 49), (1, 48), (2, 47), (3, 46) ... (49, 0)]`"
   ]
  },
  {
   "cell_type": "code",
   "execution_count": 10,
   "metadata": {},
   "outputs": [
    {
     "name": "stdout",
     "output_type": "stream",
     "text": [
      "9\n",
      " aajjssuu\n",
      "[0, 1, 2, 3, 4, 5, 6, 7, 8, 9, 10, 11, 12, 13, 14, 15, 16, 17, 18, 19, 20, 21, 22, 23, 24, 25, 26, 27, 28, 29, 30, 31, 32, 33, 34, 35, 36, 37, 38, 39, 40, 41, 42, 43, 44, 45, 46, 47, 48, 49]\n",
      "0x1722b\n",
      "[(0, 49), (1, 48), (2, 47), (3, 46), (4, 45), (5, 44), (6, 43), (7, 42), (8, 41), (9, 40), (10, 39), (11, 38), (12, 37), (13, 36), (14, 35), (15, 34), (16, 33), (17, 32), (18, 31), (19, 30), (20, 29), (21, 28), (22, 27), (23, 26), (24, 25), (25, 24), (26, 23), (27, 22), (28, 21), (29, 20), (30, 19), (31, 18), (32, 17), (33, 16), (34, 15), (35, 14), (36, 13), (37, 12), (38, 11), (39, 10), (40, 9), (41, 8), (42, 7), (43, 6), (44, 5), (45, 4), (46, 3), (47, 2), (48, 1), (49, 0)]\n"
     ]
    }
   ],
   "source": [
    "word = input()\n",
    "print(len(word))\n",
    "\n",
    "print(''.join(sorted(word)))\n",
    "\n",
    "my_list = list(range(50))\n",
    "print(my_list)\n",
    "\n",
    "print(hex(94763))\n",
    "\n",
    "print(list(zip(my_list, reversed(my_list))))\n"
   ]
  },
  {
   "attachments": {},
   "cell_type": "markdown",
   "metadata": {},
   "source": [
    "### Functions\n",
    "1. Define una funcion que reciba dos numeros y retorne su suma\n",
    "2. Define una funcion que reciba tu nombre y tu edad y que retorne el string: *Me llamo `<nombre>` y tengo `<edad>` años*<br>\n",
    "(usa keyword arguments para llamarla)\n",
    "3. Agrega un valor default a la funcion de nombre y edad para que la edad sea `0` cuando no se agregue ese argumento"
   ]
  },
  {
   "cell_type": "code",
   "execution_count": null,
   "metadata": {},
   "outputs": [],
   "source": [
    "def my_sum(a, b):\n",
    "  return a+b\n",
    "\n",
    "def print_name(name, age=0):\n",
    "  return 'Me llamo {} y tengo {} años'.format(name, age)\n",
    "\n",
    "print(my_sum(1, 2))\n",
    "print(print_name(age=20, name='mike'))\n",
    "print(print_name(name='mike'))"
   ]
  },
  {
   "attachments": {},
   "cell_type": "markdown",
   "metadata": {},
   "source": [
    "### List\n",
    "Usa la lista `numbers` para realizar los siguientes ejercicios\n",
    "1. Obten el numero mas grande\n",
    "2. Obten el numero mas chico\n",
    "3. Obten la primera mitad de la lista en una nueva variable\n",
    "4. Obten la segunda mitad de la lista en una nueva variable\n",
    "5. Obten la suma de la primera mitad\n",
    "6. Obten la suma de la segunda mitad\n",
    "7. Obten el segundo numero de la primera lista\n",
    "8. Obten el segundo numero desde atras de la segundo lista"
   ]
  },
  {
   "cell_type": "code",
   "execution_count": null,
   "metadata": {},
   "outputs": [],
   "source": [
    "numbers = [15, 10, 1, 0, -1, 99, 12, 17, 2, 11, 37, -99]\n",
    "m = int(len(numbers)/2)\n",
    "\n",
    "print('max->', max(numbers))\n",
    "print('min->', min(numbers))\n",
    "\n",
    "first_half = numbers[:m]\n",
    "second_half = numbers[m:]\n",
    "print('primera mitad->',first_half)\n",
    "print('segunda mitad->',second_half)\n",
    "\n",
    "print('suma primera mitad->', sum(first_half))\n",
    "print('suma segunda mitad->', sum(second_half))\n",
    "\n",
    "print('segundo numero primera mitad->', first_half[1])\n",
    "print('segundo numero en retroceso de la primera mitad->', second_half[-2])"
   ]
  },
  {
   "attachments": {},
   "cell_type": "markdown",
   "metadata": {},
   "source": [
    "### List comprehensions\n",
    "1. Usa una list comprehension para dividir entre 2 los numeros pares en `numbers`\n",
    "2. Crea una matriz de `0`'s de `10x10` usando list comprehension"
   ]
  },
  {
   "cell_type": "code",
   "execution_count": null,
   "metadata": {},
   "outputs": [],
   "source": [
    "numbers = [5, 1, 4, 7, 100, 2, 16, 64, 9, 13, 11, 12]\n",
    "numbers = [int(x/2) if not(x&1) else x for x in numbers]\n",
    "\n",
    "matrix = [[0 for y in range(10)] for x in range(10)]\n",
    "\n",
    "print(numbers)\n",
    "print(matrix)"
   ]
  },
  {
   "attachments": {},
   "cell_type": "markdown",
   "metadata": {},
   "source": [
    "### Tuples\n",
    "1. Crea una lista con todas las cartas de la baraja inglesa donde cada carta se representa como una tupla: `(numero, palo)`"
   ]
  },
  {
   "cell_type": "code",
   "execution_count": null,
   "metadata": {},
   "outputs": [],
   "source": [
    "ranks = [2, 3, 4, 5, 6, 7, 8, 9, 10, 'J', 'Q', 'K', 'A']\n",
    "suits = ['H', 'C', 'D', 'S']\n",
    "\n",
    "cards = [(x, y)\n",
    "         for x in ranks\n",
    "           for y in suits]\n",
    "\n",
    "print(len(cards))\n",
    "print(cards)"
   ]
  },
  {
   "attachments": {},
   "cell_type": "markdown",
   "metadata": {},
   "source": [
    "### Dictionaries\n",
    "1. Crea un diccionario donde cuentes las veces que aparece cada nombre en `dogs`\n",
    "2. Imprime la cantidad de perros que se llaman `Rocky` y `Sparky`\n",
    "3. Imprime la lista con los diferentes nombres de perros"
   ]
  },
  {
   "cell_type": "code",
   "execution_count": null,
   "metadata": {},
   "outputs": [],
   "source": [
    "from collections import defaultdict\n",
    "\n",
    "dogs=['Sparky', 'Hunter', 'Loki', 'Astro', 'Sparky', 'Rocky', 'Rocky', 'Toby', 'Chelsea',\n",
    "      'Maple', 'Maya', 'Loki', 'Sparky', 'Toby', 'Sparky', 'Dexter', 'Fido', 'Sparky']\n",
    "\n",
    "dog_dict=defaultdict(int)\n",
    "for dog in dogs:\n",
    "  dog_dict[dog] += 1\n",
    "\n",
    "print('Rocky->', dog_dict['Rocky'])\n",
    "print('Sparky->', dog_dict['Sparky'])\n",
    "print(list(dog_dict.keys()))"
   ]
  },
  {
   "attachments": {},
   "cell_type": "markdown",
   "metadata": {},
   "source": [
    "### Conditional Statements\n",
    "1. Crea una funcion que calcule el precio de una entrada al museo basado en lo siguiente:\n",
    "- Si la edad es `igual o mayor` que `70` o `menor` de `10` el precio es `0`\n",
    "- Si la edad es `igual o mayor` que `10` y `menor` que `18` el precio es `10`\n",
    "- Si la edad es `igual o mayor` que `18` y `menor` que `70` el precio es `20`\n",
    "- Si es estudiante el precio es `0`"
   ]
  },
  {
   "cell_type": "code",
   "execution_count": null,
   "metadata": {},
   "outputs": [],
   "source": [
    "def museum_price(age, is_student=False):\n",
    "  if is_student or age >= 70 or age < 10:\n",
    "    return 0\n",
    "  elif age >= 10 and age < 18:\n",
    "    return 10\n",
    "  elif age >= 18 and age < 70:\n",
    "    return 20\n",
    "\n",
    "print(museum_price(1))         #0\n",
    "print(museum_price(9))         #0\n",
    "print(museum_price(10))        #10\n",
    "print(museum_price(10, True))  #0\n",
    "print(museum_price(15))        #10\n",
    "print(museum_price(15, True))  #0\n",
    "print(museum_price(24))        #20\n",
    "print(museum_price(60))        #20\n",
    "print(museum_price(24, True))  #0\n",
    "print(museum_price(80))        #0"
   ]
  },
  {
   "attachments": {},
   "cell_type": "markdown",
   "metadata": {},
   "source": [
    "### Loops\n",
    "1. La conjetura de Collatz se define de la siguiente manera:\n",
    "    - Si `n` es par, dividelo entre 2\n",
    "    - Si `n` es impar, multiplicalo por 3 y sumale 1\n",
    "    <br><br>Ejemplo: `n=6`\n",
    "    <br>`6->3->10->5->16->8->4->2->1`\n",
    "    <br>La cantidad de pasos para `n=6` es `8`\n",
    "\n",
    "    Crea una funcion que reciba `n` y devuelva la cantidad de pasos necesarios para que `n=1`\n",
    "\n",
    "2. Crea una funcion que reciba como parametros la matriz `letter_soup` y una letra cualquiera y que retorne la cantidad de veces que aparece la letra"
   ]
  },
  {
   "cell_type": "code",
   "execution_count": null,
   "metadata": {},
   "outputs": [],
   "source": [
    "def collatz(n):\n",
    "  count = 0\n",
    "  while n != 1:\n",
    "    if n%2 == 1:\n",
    "      n=3*n+1\n",
    "    else:\n",
    "      n/=2\n",
    "    count+=1\n",
    "  return count\n",
    "\n",
    "print('collatz')\n",
    "print(collatz(6))\n",
    "print(collatz(11))\n",
    "print(collatz(27))\n",
    "\n",
    "\n",
    "letter_soup = [\n",
    "  ['a', 'z', 'u', 'p', 'r', 'g', 'u', 'h', 'm', 'a'],\n",
    "  ['u', 'w', 'g', 'f', 'e', 'h', 'o', 'm', 'u', 't'],\n",
    "  ['t', 'c', 's', 'j', 'i', 'p', 'q', 'a', 'g', 'y'],\n",
    "  ['a', 'q', 'i', 'j', 'u', 'x', 'j', 'e', 'f', 'q'],\n",
    "  ['f', 'd', 'h', 'w', 'z', 'w', 'n', 'i', 'e', 'p'],\n",
    "  ['m', 't', 'p', 'e', 'm', 'i', 'g', 'y', 'y', 'h'],\n",
    "  ['x', 'y', 'b', 'o', 'o', 'n', 's', 'z', 'p', 'd'],\n",
    "  ['a', 'o', 'y', 'b', 'y', 'c', 's', 'q', 'i', 'a'],\n",
    "  ['a', 'k', 'x', 'l', 'q', 'z', 't', 'p', 'l', 'e'],\n",
    "  ['a', 'j', 'h', 'a', 'v', 'q', 'v', 'v', 'q', 'k'],\n",
    "]\n",
    "def count_letter(soup, letter):\n",
    "  count = 0\n",
    "  for row in letter_soup:\n",
    "    for e in row:\n",
    "      if e == letter:\n",
    "        count+=1\n",
    "  return count\n",
    "print('letter soup')\n",
    "print(count_letter(letter_soup, 'a'))\n",
    "print(count_letter(letter_soup, 'q'))"
   ]
  },
  {
   "attachments": {},
   "cell_type": "markdown",
   "metadata": {},
   "source": [
    "### Exceptions & Troubleshoot\n",
    "1. Crea una funcion que reciba dos numeros `a` y `b` y retorne `a/b`\n",
    "2. Maneja la excepcion para el caso cuando `b=0` y devuelve un `float('inf')`\n",
    "3. Maneja la excepcion para el caso cuando `a` o `b` no son numeros y devuelve un `None`"
   ]
  },
  {
   "cell_type": "code",
   "execution_count": null,
   "metadata": {},
   "outputs": [],
   "source": [
    "def quotient(a, b):\n",
    "  try:\n",
    "    res = a/b;\n",
    "  except ZeroDivisionError:\n",
    "    res = float('inf')\n",
    "  except TypeError:\n",
    "    res = None\n",
    "  return res\n",
    "\n",
    "print(quotient(10, 5))\n",
    "print(quotient(10, 0))\n",
    "print(quotient('a', 1))\n",
    "print(quotient('a', 'b'))"
   ]
  }
 ],
 "metadata": {
  "kernelspec": {
   "display_name": "Python 3",
   "language": "python",
   "name": "python3"
  },
  "language_info": {
   "codemirror_mode": {
    "name": "ipython",
    "version": 3
   },
   "file_extension": ".py",
   "mimetype": "text/x-python",
   "name": "python",
   "nbconvert_exporter": "python",
   "pygments_lexer": "ipython3",
   "version": "3.9.4"
  },
  "orig_nbformat": 4,
  "vscode": {
   "interpreter": {
    "hash": "bf83be4fdf6d425e39f8861e6469281be86de43f8dab16841165e7ccc9625b45"
   }
  }
 },
 "nbformat": 4,
 "nbformat_minor": 2
}
