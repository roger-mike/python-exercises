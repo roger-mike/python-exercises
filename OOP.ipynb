{
 "cells": [
  {
   "attachments": {},
   "cell_type": "markdown",
   "metadata": {},
   "source": [
    "### Class\n",
    "1. Crea una clase llamada `Person` que incluya lo siguiente:\n",
    "\n",
    "atributos:\n",
    "- `name: public`\n",
    "- `age: public`\n",
    "\n",
    "metodos:\n",
    "- `speak: public`\n",
    "\n",
    "2. Haz que en el metodo `__init__` inicialice `name` y `age`. Si `age` no es especificado que sea igual a `0`\n",
    "3. Haz que en el metodo `speak` imprima `name` y `age`. Ejemplo: *Hola, me llamo `<name>` y tengo `<age>` años*\n",
    "4. Crea dos objetos de tipo `Person` y llama el metodo `speak`\n",
    "5. Crea un `property` y un`setter` para el nombre para que cada que se modifique tenga letra capital. Tambien debe tener letra capital al crearse por primera vez.\n",
    "6. Modifica el nombre en cualquier objeto y verifica que tenga letra capital"
   ]
  },
  {
   "cell_type": "code",
   "execution_count": null,
   "metadata": {},
   "outputs": [],
   "source": []
  },
  {
   "attachments": {},
   "cell_type": "markdown",
   "metadata": {},
   "source": [
    "### Herencia\n",
    "1. Crea una clase llamada `Employee` que herede de `Person` y que ademas incluya lo siguiente:\n",
    "\n",
    "atributos:\n",
    "- `office_location: public`\n",
    "- `employee_id: private`\n",
    "\n",
    "    **Recuerda que tambien debe heredar los atributos de la clase `Person`**\n",
    "\n",
    "metodos:\n",
    "- `speak: public` modificalo para que ademas diga: *...y trabajo en `<office_location>`*\n",
    "\n",
    "2. Crea un objeto `Employee` y llama el metodo `speak`\n",
    "\n",
    "### Encapsulamiento\n",
    "1. Que pasa si intentas acceder `__employee_id`?\n",
    "2. Haz que sea modificable a traves de un `property` y `setter`\n",
    "3. Que pasa si intentas obtener y modificar `employee_id`?"
   ]
  },
  {
   "cell_type": "code",
   "execution_count": null,
   "metadata": {},
   "outputs": [],
   "source": []
  },
  {
   "attachments": {},
   "cell_type": "markdown",
   "metadata": {},
   "source": [
    "### Polimorfismo\n",
    "1. Crea una clase llamada `Student` que tambien herede de `Person` y que ademas incluya lo siguiente:\n",
    "\n",
    "atributos:\n",
    "- `school: public`\n",
    "\n",
    "    **Recuerda que tambien debe heredar los atributos de la clase `Person`**\n",
    "\n",
    "metodos:\n",
    "- `speak: public` modificalo para que ademas diga: *...y estudio en `<school>`*\n",
    "\n",
    "2. Crea un objeto `Student` y llama el metodo `speak`\n",
    "3. Comprueba que ambos objetos pueden hacer set de `name` y que tienen el mismo comportamiento\n",
    "4. Comprueba que tanto un objeto `Employee` como un objeto `Student` son subclases de `Person`"
   ]
  },
  {
   "attachments": {},
   "cell_type": "markdown",
   "metadata": {},
   "source": [
    "### Abstraccion de datos\n",
    "1. Agrega una variable global y privada a la clase student llamada `__absences` que sea igual a `0`\n",
    "2. Que pasa si intentas acceder o modificar `__absences`?\n",
    "3. Crea un metodo publico llamado `absence` que le sume `1` a `__absences`\n",
    "4. Crea un metodo publico llamado `is_expelled` que retorne `Lo siento, estas expulsado!` cuando llegas a `5` faltas, de lo contrario que retorne `Sigue estudiando!`\n",
    "5. Comprueba que pasa cuando usas `absence` y `is_expelled`"
   ]
  },
  {
   "cell_type": "code",
   "execution_count": null,
   "metadata": {},
   "outputs": [],
   "source": []
  }
 ],
 "metadata": {
  "kernelspec": {
   "display_name": "Python 3",
   "language": "python",
   "name": "python3"
  },
  "language_info": {
   "name": "python",
   "version": "3.9.4 (default, Dec 16 2021, 13:45:15) \n[Clang 12.0.5 (clang-1205.0.22.9)]"
  },
  "orig_nbformat": 4,
  "vscode": {
   "interpreter": {
    "hash": "bf83be4fdf6d425e39f8861e6469281be86de43f8dab16841165e7ccc9625b45"
   }
  }
 },
 "nbformat": 4,
 "nbformat_minor": 2
}
